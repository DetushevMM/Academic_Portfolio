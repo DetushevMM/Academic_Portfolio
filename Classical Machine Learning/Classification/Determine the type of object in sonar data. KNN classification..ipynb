{
  "cells": [
    {
      "cell_type": "markdown",
      "id": "fe4d894b-d3da-4797-8c9c-ee62c8bde9ec",
      "metadata": {},
      "source": [
        "Метод KNN классификации.\n",
        "Создание пайплайна и применение подбор гиперпараметров по сетке. \n",
        "\n",
        "Задача:\n",
        "При помощи ульразвукового локатора (Сонар - Sоund Navigation And Ranging) определить объект на воде или под водой. Набор данных содержить около 60 различных частот сонара, отправленных на известные объекты - камни и мины. \n",
        "\n",
        "Создать модель машинного обучения, которая может определить тип объекта - камень или мина - на основе ответа от сонаров на 60 различных частотах."
      ]
    },
    {
      "cell_type": "code",
      "execution_count": 13,
      "id": "8135a666-2b0b-4b87-a20f-dcb6267d7277",
      "metadata": {
        "trusted": true
      },
      "outputs": [],
      "source": [
        "import numpy as np\n",
        "import pandas as pd\n",
        "import seaborn as sns\n",
        "import matplotlib.pyplot as plt"
      ]
    },
    {
      "cell_type": "code",
      "execution_count": 14,
      "id": "d5581939-7cac-4e6e-87e2-1edecfec8f9b",
      "metadata": {
        "trusted": true
      },
      "outputs": [],
      "source": [
        "df = pd.read_csv(r\"C:\\Users\\mmd28\\OneDrive\\Рабочий стол\\Academic potfolio\\Classical Machine Learning\\Supervised learning\\Classification\\data\\sonar.all-data.csv\")"
      ]
    },
    {
      "cell_type": "code",
      "execution_count": 15,
      "id": "12ecec4b-2abb-40b2-9c62-5caed38259b2",
      "metadata": {
        "trusted": true
      },
      "outputs": [
        {
          "data": {
            "text/html": [
              "<div>\n",
              "<style scoped>\n",
              "    .dataframe tbody tr th:only-of-type {\n",
              "        vertical-align: middle;\n",
              "    }\n",
              "\n",
              "    .dataframe tbody tr th {\n",
              "        vertical-align: top;\n",
              "    }\n",
              "\n",
              "    .dataframe thead th {\n",
              "        text-align: right;\n",
              "    }\n",
              "</style>\n",
              "<table border=\"1\" class=\"dataframe\">\n",
              "  <thead>\n",
              "    <tr style=\"text-align: right;\">\n",
              "      <th></th>\n",
              "      <th>Freq_1</th>\n",
              "      <th>Freq_2</th>\n",
              "      <th>Freq_3</th>\n",
              "      <th>Freq_4</th>\n",
              "      <th>Freq_5</th>\n",
              "      <th>Freq_6</th>\n",
              "      <th>Freq_7</th>\n",
              "      <th>Freq_8</th>\n",
              "      <th>Freq_9</th>\n",
              "      <th>Freq_10</th>\n",
              "      <th>...</th>\n",
              "      <th>Freq_52</th>\n",
              "      <th>Freq_53</th>\n",
              "      <th>Freq_54</th>\n",
              "      <th>Freq_55</th>\n",
              "      <th>Freq_56</th>\n",
              "      <th>Freq_57</th>\n",
              "      <th>Freq_58</th>\n",
              "      <th>Freq_59</th>\n",
              "      <th>Freq_60</th>\n",
              "      <th>Label</th>\n",
              "    </tr>\n",
              "  </thead>\n",
              "  <tbody>\n",
              "    <tr>\n",
              "      <th>0</th>\n",
              "      <td>0.0200</td>\n",
              "      <td>0.0371</td>\n",
              "      <td>0.0428</td>\n",
              "      <td>0.0207</td>\n",
              "      <td>0.0954</td>\n",
              "      <td>0.0986</td>\n",
              "      <td>0.1539</td>\n",
              "      <td>0.1601</td>\n",
              "      <td>0.3109</td>\n",
              "      <td>0.2111</td>\n",
              "      <td>...</td>\n",
              "      <td>0.0027</td>\n",
              "      <td>0.0065</td>\n",
              "      <td>0.0159</td>\n",
              "      <td>0.0072</td>\n",
              "      <td>0.0167</td>\n",
              "      <td>0.0180</td>\n",
              "      <td>0.0084</td>\n",
              "      <td>0.0090</td>\n",
              "      <td>0.0032</td>\n",
              "      <td>R</td>\n",
              "    </tr>\n",
              "    <tr>\n",
              "      <th>1</th>\n",
              "      <td>0.0453</td>\n",
              "      <td>0.0523</td>\n",
              "      <td>0.0843</td>\n",
              "      <td>0.0689</td>\n",
              "      <td>0.1183</td>\n",
              "      <td>0.2583</td>\n",
              "      <td>0.2156</td>\n",
              "      <td>0.3481</td>\n",
              "      <td>0.3337</td>\n",
              "      <td>0.2872</td>\n",
              "      <td>...</td>\n",
              "      <td>0.0084</td>\n",
              "      <td>0.0089</td>\n",
              "      <td>0.0048</td>\n",
              "      <td>0.0094</td>\n",
              "      <td>0.0191</td>\n",
              "      <td>0.0140</td>\n",
              "      <td>0.0049</td>\n",
              "      <td>0.0052</td>\n",
              "      <td>0.0044</td>\n",
              "      <td>R</td>\n",
              "    </tr>\n",
              "    <tr>\n",
              "      <th>2</th>\n",
              "      <td>0.0262</td>\n",
              "      <td>0.0582</td>\n",
              "      <td>0.1099</td>\n",
              "      <td>0.1083</td>\n",
              "      <td>0.0974</td>\n",
              "      <td>0.2280</td>\n",
              "      <td>0.2431</td>\n",
              "      <td>0.3771</td>\n",
              "      <td>0.5598</td>\n",
              "      <td>0.6194</td>\n",
              "      <td>...</td>\n",
              "      <td>0.0232</td>\n",
              "      <td>0.0166</td>\n",
              "      <td>0.0095</td>\n",
              "      <td>0.0180</td>\n",
              "      <td>0.0244</td>\n",
              "      <td>0.0316</td>\n",
              "      <td>0.0164</td>\n",
              "      <td>0.0095</td>\n",
              "      <td>0.0078</td>\n",
              "      <td>R</td>\n",
              "    </tr>\n",
              "  </tbody>\n",
              "</table>\n",
              "<p>3 rows × 61 columns</p>\n",
              "</div>"
            ],
            "text/plain": [
              "   Freq_1  Freq_2  Freq_3  Freq_4  Freq_5  Freq_6  Freq_7  Freq_8  Freq_9  \\\n",
              "0  0.0200  0.0371  0.0428  0.0207  0.0954  0.0986  0.1539  0.1601  0.3109   \n",
              "1  0.0453  0.0523  0.0843  0.0689  0.1183  0.2583  0.2156  0.3481  0.3337   \n",
              "2  0.0262  0.0582  0.1099  0.1083  0.0974  0.2280  0.2431  0.3771  0.5598   \n",
              "\n",
              "   Freq_10  ...  Freq_52  Freq_53  Freq_54  Freq_55  Freq_56  Freq_57  \\\n",
              "0   0.2111  ...   0.0027   0.0065   0.0159   0.0072   0.0167   0.0180   \n",
              "1   0.2872  ...   0.0084   0.0089   0.0048   0.0094   0.0191   0.0140   \n",
              "2   0.6194  ...   0.0232   0.0166   0.0095   0.0180   0.0244   0.0316   \n",
              "\n",
              "   Freq_58  Freq_59  Freq_60  Label  \n",
              "0   0.0084   0.0090   0.0032      R  \n",
              "1   0.0049   0.0052   0.0044      R  \n",
              "2   0.0164   0.0095   0.0078      R  \n",
              "\n",
              "[3 rows x 61 columns]"
            ]
          },
          "execution_count": 15,
          "metadata": {},
          "output_type": "execute_result"
        }
      ],
      "source": [
        "df.head(3)"
      ]
    },
    {
      "cell_type": "markdown",
      "id": "3c932058-7901-4dc4-aa63-f9d2ae6ea1a0",
      "metadata": {},
      "source": [
        "Создадим тепловую карту для выявления коррелиции между откликами различных частот сонара."
      ]
    },
    {
      "cell_type": "code",
      "execution_count": 16,
      "id": "a4f555d9-3561-4733-8841-bf73f515e7b8",
      "metadata": {
        "trusted": true
      },
      "outputs": [
        {
          "data": {
            "text/plain": [
              "<Axes: >"
            ]
          },
          "execution_count": 16,
          "metadata": {},
          "output_type": "execute_result"
        },
        {
          "data": {
            "image/png": "[encoded data removed]",
            "text/plain": [
              "<Figure size 1000x800 with 2 Axes>"
            ]
          },
          "metadata": {},
          "output_type": "display_data"
        }
      ],
      "source": [
        "plt.figure(figsize=(10, 8), dpi=100)\n",
        "sns.heatmap(df.corr(numeric_only=True), cmap='coolwarm')"
      ]
    },
    {
      "cell_type": "markdown",
      "id": "f015454d-626d-4de8-a885-5c75838299ac",
      "metadata": {},
      "source": [
        "По диагонали мы видим красные квадратики, потому что каждая частота идеально коррелирует сама с собой. Рядим с диагональю мы видим розовые пятна - это означает, что соседние частоты коррелируют между собой, так как они близкие друг с другом по значению. "
      ]
    },
    {
      "cell_type": "markdown",
      "id": "cafe2d58-3933-4c78-bb34-f2be34f98717",
      "metadata": {},
      "source": [
        "Посмотри на пять частот наиболее сильно коррелирующих с переменной. Мы ищем абсолютные значения."
      ]
    },
    {
      "cell_type": "markdown",
      "id": "97c8b233-38f7-44ef-a51a-fc26fc13ea6a",
      "metadata": {},
      "source": [
        "Мы можем пометить целевую переменную с помощью значений 0 и 1 вместо R и M. Поместим ити значения в новый столбец."
      ]
    },
    {
      "cell_type": "code",
      "execution_count": 17,
      "id": "8c7805be-81c7-45d1-9e87-5658403305a6",
      "metadata": {
        "trusted": true
      },
      "outputs": [],
      "source": [
        "df['Target'] = df['Label'].map({'R': 0, 'M': 1})"
      ]
    },
    {
      "cell_type": "markdown",
      "id": "ade32495-ba7e-4503-958c-201f54e47c76",
      "metadata": {},
      "source": [
        "Выведем числовые значений корреляций. Выведем абсолютные значения и отсортируем их. Выведем только 6 наибольших значений (5 + значение target)."
      ]
    },
    {
      "cell_type": "code",
      "execution_count": 18,
      "id": "624345d0-31ff-4797-9552-be7271d18d48",
      "metadata": {
        "trusted": true
      },
      "outputs": [
        {
          "data": {
            "text/plain": [
              "Freq_45    0.339406\n",
              "Freq_10    0.341142\n",
              "Freq_49    0.351312\n",
              "Freq_12    0.392245\n",
              "Freq_11    0.432855\n",
              "Target     1.000000\n",
              "Name: Target, dtype: float64"
            ]
          },
          "execution_count": 18,
          "metadata": {},
          "output_type": "execute_result"
        }
      ],
      "source": [
        "np.abs(df.corr(numeric_only=True)['Target']).sort_values().tail(6)"
      ]
    },
    {
      "cell_type": "markdown",
      "id": "34d7c3d4-221a-4b77-aec2-5c42470d0302",
      "metadata": {},
      "source": [
        "Разбиение на обучающий и тестовый наборы данных. Выделим на кросс-валидацию 90 % данных, а на тестовый набор для оценки модели - 10% данных. "
      ]
    },
    {
      "cell_type": "code",
      "execution_count": 19,
      "id": "fccca5e3-0372-4716-98b7-dc3f626ff771",
      "metadata": {
        "trusted": true
      },
      "outputs": [],
      "source": [
        "from sklearn.model_selection import train_test_split"
      ]
    },
    {
      "cell_type": "code",
      "execution_count": 20,
      "id": "2e2f4950-135e-4204-af33-dfc01cf71ca5",
      "metadata": {
        "trusted": true
      },
      "outputs": [],
      "source": [
        "X = df.drop(['Target', 'Label'], axis=1)\n",
        "y = df['Label']"
      ]
    },
    {
      "cell_type": "code",
      "execution_count": 21,
      "id": "6514a8c9-2ac6-4176-8e4f-c01a2b6bc3b0",
      "metadata": {
        "trusted": true
      },
      "outputs": [],
      "source": [
        "X_train, X_test, y_train, y_test = train_test_split(X, y, test_size=0.1, random_state=42)"
      ]
    },
    {
      "cell_type": "markdown",
      "id": "41e2d0b0-76a5-4ab3-925f-bf50de4c4882",
      "metadata": {},
      "source": [
        "Создадим Pipeline с объектом scaler и моделью KNN"
      ]
    },
    {
      "cell_type": "code",
      "execution_count": 22,
      "id": "98f9de2b-eaac-4df7-b3f2-e081a2b872f6",
      "metadata": {
        "trusted": true
      },
      "outputs": [],
      "source": [
        "from sklearn.preprocessing import StandardScaler\n",
        "from sklearn.neighbors import KNeighborsClassifier\n",
        "from sklearn.pipeline import Pipeline\n",
        "from sklearn.model_selection import GridSearchCV"
      ]
    },
    {
      "cell_type": "code",
      "execution_count": 23,
      "id": "f365d45c-15be-43dc-a3bb-7a7fb617dad3",
      "metadata": {
        "trusted": true
      },
      "outputs": [],
      "source": [
        "scaler = StandardScaler()"
      ]
    },
    {
      "cell_type": "code",
      "execution_count": 24,
      "id": "242ab590-96f2-42bb-a9d1-6c508572c4f9",
      "metadata": {
        "trusted": true
      },
      "outputs": [],
      "source": [
        "knn = KNeighborsClassifier()"
      ]
    },
    {
      "cell_type": "markdown",
      "id": "e05fc187-fac3-46bc-a260-9384a80afe7c",
      "metadata": {},
      "source": [
        "Создадим объект, который будет указывать пайплайну порядок действий"
      ]
    },
    {
      "cell_type": "code",
      "execution_count": 25,
      "id": "49cb72ab-c648-43bd-a01e-349bdab2ae69",
      "metadata": {
        "trusted": true
      },
      "outputs": [],
      "source": [
        "operations = [('scaler', scaler), ('knn', knn)]"
      ]
    },
    {
      "cell_type": "markdown",
      "id": "90e2008a-15f9-4f7b-ad55-a6600ba08899",
      "metadata": {},
      "source": [
        "Создаем сам Pipeline, который сперва запустит масштабирование признаков (стандартизацию), а затем зупустит модель К-ближайших соседей."
      ]
    },
    {
      "cell_type": "code",
      "execution_count": 26,
      "id": "3a762229-b747-496c-9654-22e8a9decba1",
      "metadata": {
        "trusted": true
      },
      "outputs": [],
      "source": [
        "pipe = Pipeline(operations)"
      ]
    },
    {
      "cell_type": "markdown",
      "id": "8ad135f5-b569-46a3-811c-3b4bbd8a3d95",
      "metadata": {},
      "source": [
        "С помощью пайплайна выполним поиск по сетке для различных значений \"К\". После выведим наилучшие параметры метода."
      ]
    },
    {
      "cell_type": "markdown",
      "id": "a6a5d7e1-16be-4344-b0e6-6f7d6d3f0940",
      "metadata": {},
      "source": [
        "Создадим список для значений \"К\" от 1 до 30"
      ]
    },
    {
      "cell_type": "code",
      "execution_count": 27,
      "id": "cfbee74e-b899-48a4-9ea5-88e19de3246f",
      "metadata": {
        "trusted": true
      },
      "outputs": [],
      "source": [
        "k_values = list(range(1, 30))"
      ]
    },
    {
      "cell_type": "markdown",
      "id": "7fa75c49-4f4b-409d-9f53-f1a473feb6ba",
      "metadata": {},
      "source": [
        "Создадим набор параметров для поиска гиперпараметров по сетке"
      ]
    },
    {
      "cell_type": "code",
      "execution_count": 28,
      "id": "7c36db8c-ab4d-4088-98c0-9dbfa92bf550",
      "metadata": {
        "trusted": true
      },
      "outputs": [],
      "source": [
        "param_grid = {'knn__n_neighbors': k_values}"
      ]
    },
    {
      "cell_type": "markdown",
      "id": "3d7a987a-262e-4646-b5d1-df8d5ed047e6",
      "metadata": {},
      "source": [
        "Создадим классификатор"
      ]
    },
    {
      "cell_type": "code",
      "execution_count": 29,
      "id": "0d225fcb-7831-487a-b244-2eb80c6f7930",
      "metadata": {
        "trusted": true
      },
      "outputs": [],
      "source": [
        "full_cv_classifier = GridSearchCV(pipe, param_grid, cv=5, scoring='accuracy')"
      ]
    },
    {
      "cell_type": "markdown",
      "id": "9301656f-4239-4032-bfbc-9461960896de",
      "metadata": {},
      "source": [
        "Обучим модель на тренировочных данных"
      ]
    },
    {
      "cell_type": "code",
      "execution_count": 30,
      "id": "5060343e-c854-4dbb-965a-6d83fca31241",
      "metadata": {
        "trusted": true
      },
      "outputs": [
        {
          "data": {
            "text/html": [
              "<style>#sk-container-id-1 {\n",
              "  /* Definition of color scheme common for light and dark mode */\n",
              "  --sklearn-color-text: black;\n",
              "  --sklearn-color-line: gray;\n",
              "  /* Definition of color scheme for unfitted estimators */\n",
              "  --sklearn-color-unfitted-level-0: #fff5e6;\n",
              "  --sklearn-color-unfitted-level-1: #f6e4d2;\n",
              "  --sklearn-color-unfitted-level-2: #ffe0b3;\n",
              "  --sklearn-color-unfitted-level-3: chocolate;\n",
              "  /* Definition of color scheme for fitted estimators */\n",
              "  --sklearn-color-fitted-level-0: #f0f8ff;\n",
              "  --sklearn-color-fitted-level-1: #d4ebff;\n",
              "  --sklearn-color-fitted-level-2: #b3dbfd;\n",
              "  --sklearn-color-fitted-level-3: cornflowerblue;\n",
              "\n",
              "  /* Specific color for light theme */\n",
              "  --sklearn-color-text-on-default-background: var(--sg-text-color, var(--theme-code-foreground, var(--jp-content-font-color1, black)));\n",
              "  --sklearn-color-background: var(--sg-background-color, var(--theme-background, var(--jp-layout-color0, white)));\n",
              "  --sklearn-color-border-box: var(--sg-text-color, var(--theme-code-foreground, var(--jp-content-font-color1, black)));\n",
              "  --sklearn-color-icon: #696969;\n",
              "\n",
              "  @media (prefers-color-scheme: dark) {\n",
              "    /* Redefinition of color scheme for dark theme */\n",
              "    --sklearn-color-text-on-default-background: var(--sg-text-color, var(--theme-code-foreground, var(--jp-content-font-color1, white)));\n",
              "    --sklearn-color-background: var(--sg-background-color, var(--theme-background, var(--jp-layout-color0, #111)));\n",
              "    --sklearn-color-border-box: var(--sg-text-color, var(--theme-code-foreground, var(--jp-content-font-color1, white)));\n",
              "    --sklearn-color-icon: #878787;\n",
              "  }\n",
              "}\n",
              "\n",
              "#sk-container-id-1 {\n",
              "  color: var(--sklearn-color-text);\n",
              "}\n",
              "\n",
              "#sk-container-id-1 pre {\n",
              "  padding: 0;\n",
              "}\n",
              "\n",
              "#sk-container-id-1 input.sk-hidden--visually {\n",
              "  border: 0;\n",
              "  clip: rect(1px 1px 1px 1px);\n",
              "  clip: rect(1px, 1px, 1px, 1px);\n",
              "  height: 1px;\n",
              "  margin: -1px;\n",
              "  overflow: hidden;\n",
              "  padding: 0;\n",
              "  position: absolute;\n",
              "  width: 1px;\n",
              "}\n",
              "\n",
              "#sk-container-id-1 div.sk-dashed-wrapped {\n",
              "  border: 1px dashed var(--sklearn-color-line);\n",
              "  margin: 0 0.4em 0.5em 0.4em;\n",
              "  box-sizing: border-box;\n",
              "  padding-bottom: 0.4em;\n",
              "  background-color: var(--sklearn-color-background);\n",
              "}\n",
              "\n",
              "#sk-container-id-1 div.sk-container {\n",
              "  /* jupyter's `normalize.less` sets `[hidden] { display: none; }`\n",
              "     but bootstrap.min.css set `[hidden] { display: none !important; }`\n",
              "     so we also need the `!important` here to be able to override the\n",
              "     default hidden behavior on the sphinx rendered scikit-learn.org.\n",
              "     See: https://github.com/scikit-learn/scikit-learn/issues/21755 */\n",
              "  display: inline-block !important;\n",
              "  position: relative;\n",
              "}\n",
              "\n",
              "#sk-container-id-1 div.sk-text-repr-fallback {\n",
              "  display: none;\n",
              "}\n",
              "\n",
              "div.sk-parallel-item,\n",
              "div.sk-serial,\n",
              "div.sk-item {\n",
              "  /* draw centered vertical line to link estimators */\n",
              "  background-image: linear-gradient(var(--sklearn-color-text-on-default-background), var(--sklearn-color-text-on-default-background));\n",
              "  background-size: 2px 100%;\n",
              "  background-repeat: no-repeat;\n",
              "  background-position: center center;\n",
              "}\n",
              "\n",
              "/* Parallel-specific style estimator block */\n",
              "\n",
              "#sk-container-id-1 div.sk-parallel-item::after {\n",
              "  content: \"\";\n",
              "  width: 100%;\n",
              "  border-bottom: 2px solid var(--sklearn-color-text-on-default-background);\n",
              "  flex-grow: 1;\n",
              "}\n",
              "\n",
              "#sk-container-id-1 div.sk-parallel {\n",
              "  display: flex;\n",
              "  align-items: stretch;\n",
              "  justify-content: center;\n",
              "  background-color: var(--sklearn-color-background);\n",
              "  position: relative;\n",
              "}\n",
              "\n",
              "#sk-container-id-1 div.sk-parallel-item {\n",
              "  display: flex;\n",
              "  flex-direction: column;\n",
              "}\n",
              "\n",
              "#sk-container-id-1 div.sk-parallel-item:first-child::after {\n",
              "  align-self: flex-end;\n",
              "  width: 50%;\n",
              "}\n",
              "\n",
              "#sk-container-id-1 div.sk-parallel-item:last-child::after {\n",
              "  align-self: flex-start;\n",
              "  width: 50%;\n",
              "}\n",
              "\n",
              "#sk-container-id-1 div.sk-parallel-item:only-child::after {\n",
              "  width: 0;\n",
              "}\n",
              "\n",
              "/* Serial-specific style estimator block */\n",
              "\n",
              "#sk-container-id-1 div.sk-serial {\n",
              "  display: flex;\n",
              "  flex-direction: column;\n",
              "  align-items: center;\n",
              "  background-color: var(--sklearn-color-background);\n",
              "  padding-right: 1em;\n",
              "  padding-left: 1em;\n",
              "}\n",
              "\n",
              "\n",
              "/* Toggleable style: style used for estimator/Pipeline/ColumnTransformer box that is\n",
              "clickable and can be expanded/collapsed.\n",
              "- Pipeline and ColumnTransformer use this feature and define the default style\n",
              "- Estimators will overwrite some part of the style using the `sk-estimator` class\n",
              "*/\n",
              "\n",
              "/* Pipeline and ColumnTransformer style (default) */\n",
              "\n",
              "#sk-container-id-1 div.sk-toggleable {\n",
              "  /* Default theme specific background. It is overwritten whether we have a\n",
              "  specific estimator or a Pipeline/ColumnTransformer */\n",
              "  background-color: var(--sklearn-color-background);\n",
              "}\n",
              "\n",
              "/* Toggleable label */\n",
              "#sk-container-id-1 label.sk-toggleable__label {\n",
              "  cursor: pointer;\n",
              "  display: block;\n",
              "  width: 100%;\n",
              "  margin-bottom: 0;\n",
              "  padding: 0.5em;\n",
              "  box-sizing: border-box;\n",
              "  text-align: center;\n",
              "}\n",
              "\n",
              "#sk-container-id-1 label.sk-toggleable__label-arrow:before {\n",
              "  /* Arrow on the left of the label */\n",
              "  content: \"▸\";\n",
              "  float: left;\n",
              "  margin-right: 0.25em;\n",
              "  color: var(--sklearn-color-icon);\n",
              "}\n",
              "\n",
              "#sk-container-id-1 label.sk-toggleable__label-arrow:hover:before {\n",
              "  color: var(--sklearn-color-text);\n",
              "}\n",
              "\n",
              "/* Toggleable content - dropdown */\n",
              "\n",
              "#sk-container-id-1 div.sk-toggleable__content {\n",
              "  max-height: 0;\n",
              "  max-width: 0;\n",
              "  overflow: hidden;\n",
              "  text-align: left;\n",
              "  /* unfitted */\n",
              "  background-color: var(--sklearn-color-unfitted-level-0);\n",
              "}\n",
              "\n",
              "#sk-container-id-1 div.sk-toggleable__content.fitted {\n",
              "  /* fitted */\n",
              "  background-color: var(--sklearn-color-fitted-level-0);\n",
              "}\n",
              "\n",
              "#sk-container-id-1 div.sk-toggleable__content pre {\n",
              "  margin: 0.2em;\n",
              "  border-radius: 0.25em;\n",
              "  color: var(--sklearn-color-text);\n",
              "  /* unfitted */\n",
              "  background-color: var(--sklearn-color-unfitted-level-0);\n",
              "}\n",
              "\n",
              "#sk-container-id-1 div.sk-toggleable__content.fitted pre {\n",
              "  /* unfitted */\n",
              "  background-color: var(--sklearn-color-fitted-level-0);\n",
              "}\n",
              "\n",
              "#sk-container-id-1 input.sk-toggleable__control:checked~div.sk-toggleable__content {\n",
              "  /* Expand drop-down */\n",
              "  max-height: 200px;\n",
              "  max-width: 100%;\n",
              "  overflow: auto;\n",
              "}\n",
              "\n",
              "#sk-container-id-1 input.sk-toggleable__control:checked~label.sk-toggleable__label-arrow:before {\n",
              "  content: \"▾\";\n",
              "}\n",
              "\n",
              "/* Pipeline/ColumnTransformer-specific style */\n",
              "\n",
              "#sk-container-id-1 div.sk-label input.sk-toggleable__control:checked~label.sk-toggleable__label {\n",
              "  color: var(--sklearn-color-text);\n",
              "  background-color: var(--sklearn-color-unfitted-level-2);\n",
              "}\n",
              "\n",
              "#sk-container-id-1 div.sk-label.fitted input.sk-toggleable__control:checked~label.sk-toggleable__label {\n",
              "  background-color: var(--sklearn-color-fitted-level-2);\n",
              "}\n",
              "\n",
              "/* Estimator-specific style */\n",
              "\n",
              "/* Colorize estimator box */\n",
              "#sk-container-id-1 div.sk-estimator input.sk-toggleable__control:checked~label.sk-toggleable__label {\n",
              "  /* unfitted */\n",
              "  background-color: var(--sklearn-color-unfitted-level-2);\n",
              "}\n",
              "\n",
              "#sk-container-id-1 div.sk-estimator.fitted input.sk-toggleable__control:checked~label.sk-toggleable__label {\n",
              "  /* fitted */\n",
              "  background-color: var(--sklearn-color-fitted-level-2);\n",
              "}\n",
              "\n",
              "#sk-container-id-1 div.sk-label label.sk-toggleable__label,\n",
              "#sk-container-id-1 div.sk-label label {\n",
              "  /* The background is the default theme color */\n",
              "  color: var(--sklearn-color-text-on-default-background);\n",
              "}\n",
              "\n",
              "/* On hover, darken the color of the background */\n",
              "#sk-container-id-1 div.sk-label:hover label.sk-toggleable__label {\n",
              "  color: var(--sklearn-color-text);\n",
              "  background-color: var(--sklearn-color-unfitted-level-2);\n",
              "}\n",
              "\n",
              "/* Label box, darken color on hover, fitted */\n",
              "#sk-container-id-1 div.sk-label.fitted:hover label.sk-toggleable__label.fitted {\n",
              "  color: var(--sklearn-color-text);\n",
              "  background-color: var(--sklearn-color-fitted-level-2);\n",
              "}\n",
              "\n",
              "/* Estimator label */\n",
              "\n",
              "#sk-container-id-1 div.sk-label label {\n",
              "  font-family: monospace;\n",
              "  font-weight: bold;\n",
              "  display: inline-block;\n",
              "  line-height: 1.2em;\n",
              "}\n",
              "\n",
              "#sk-container-id-1 div.sk-label-container {\n",
              "  text-align: center;\n",
              "}\n",
              "\n",
              "/* Estimator-specific */\n",
              "#sk-container-id-1 div.sk-estimator {\n",
              "  font-family: monospace;\n",
              "  border: 1px dotted var(--sklearn-color-border-box);\n",
              "  border-radius: 0.25em;\n",
              "  box-sizing: border-box;\n",
              "  margin-bottom: 0.5em;\n",
              "  /* unfitted */\n",
              "  background-color: var(--sklearn-color-unfitted-level-0);\n",
              "}\n",
              "\n",
              "#sk-container-id-1 div.sk-estimator.fitted {\n",
              "  /* fitted */\n",
              "  background-color: var(--sklearn-color-fitted-level-0);\n",
              "}\n",
              "\n",
              "/* on hover */\n",
              "#sk-container-id-1 div.sk-estimator:hover {\n",
              "  /* unfitted */\n",
              "  background-color: var(--sklearn-color-unfitted-level-2);\n",
              "}\n",
              "\n",
              "#sk-container-id-1 div.sk-estimator.fitted:hover {\n",
              "  /* fitted */\n",
              "  background-color: var(--sklearn-color-fitted-level-2);\n",
              "}\n",
              "\n",
              "/* Specification for estimator info (e.g. \"i\" and \"?\") */\n",
              "\n",
              "/* Common style for \"i\" and \"?\" */\n",
              "\n",
              ".sk-estimator-doc-link,\n",
              "a:link.sk-estimator-doc-link,\n",
              "a:visited.sk-estimator-doc-link {\n",
              "  float: right;\n",
              "  font-size: smaller;\n",
              "  line-height: 1em;\n",
              "  font-family: monospace;\n",
              "  background-color: var(--sklearn-color-background);\n",
              "  border-radius: 1em;\n",
              "  height: 1em;\n",
              "  width: 1em;\n",
              "  text-decoration: none !important;\n",
              "  margin-left: 1ex;\n",
              "  /* unfitted */\n",
              "  border: var(--sklearn-color-unfitted-level-1) 1pt solid;\n",
              "  color: var(--sklearn-color-unfitted-level-1);\n",
              "}\n",
              "\n",
              ".sk-estimator-doc-link.fitted,\n",
              "a:link.sk-estimator-doc-link.fitted,\n",
              "a:visited.sk-estimator-doc-link.fitted {\n",
              "  /* fitted */\n",
              "  border: var(--sklearn-color-fitted-level-1) 1pt solid;\n",
              "  color: var(--sklearn-color-fitted-level-1);\n",
              "}\n",
              "\n",
              "/* On hover */\n",
              "div.sk-estimator:hover .sk-estimator-doc-link:hover,\n",
              ".sk-estimator-doc-link:hover,\n",
              "div.sk-label-container:hover .sk-estimator-doc-link:hover,\n",
              ".sk-estimator-doc-link:hover {\n",
              "  /* unfitted */\n",
              "  background-color: var(--sklearn-color-unfitted-level-3);\n",
              "  color: var(--sklearn-color-background);\n",
              "  text-decoration: none;\n",
              "}\n",
              "\n",
              "div.sk-estimator.fitted:hover .sk-estimator-doc-link.fitted:hover,\n",
              ".sk-estimator-doc-link.fitted:hover,\n",
              "div.sk-label-container:hover .sk-estimator-doc-link.fitted:hover,\n",
              ".sk-estimator-doc-link.fitted:hover {\n",
              "  /* fitted */\n",
              "  background-color: var(--sklearn-color-fitted-level-3);\n",
              "  color: var(--sklearn-color-background);\n",
              "  text-decoration: none;\n",
              "}\n",
              "\n",
              "/* Span, style for the box shown on hovering the info icon */\n",
              ".sk-estimator-doc-link span {\n",
              "  display: none;\n",
              "  z-index: 9999;\n",
              "  position: relative;\n",
              "  font-weight: normal;\n",
              "  right: .2ex;\n",
              "  padding: .5ex;\n",
              "  margin: .5ex;\n",
              "  width: min-content;\n",
              "  min-width: 20ex;\n",
              "  max-width: 50ex;\n",
              "  color: var(--sklearn-color-text);\n",
              "  box-shadow: 2pt 2pt 4pt #999;\n",
              "  /* unfitted */\n",
              "  background: var(--sklearn-color-unfitted-level-0);\n",
              "  border: .5pt solid var(--sklearn-color-unfitted-level-3);\n",
              "}\n",
              "\n",
              ".sk-estimator-doc-link.fitted span {\n",
              "  /* fitted */\n",
              "  background: var(--sklearn-color-fitted-level-0);\n",
              "  border: var(--sklearn-color-fitted-level-3);\n",
              "}\n",
              "\n",
              ".sk-estimator-doc-link:hover span {\n",
              "  display: block;\n",
              "}\n",
              "\n",
              "/* \"?\"-specific style due to the `<a>` HTML tag */\n",
              "\n",
              "#sk-container-id-1 a.estimator_doc_link {\n",
              "  float: right;\n",
              "  font-size: 1rem;\n",
              "  line-height: 1em;\n",
              "  font-family: monospace;\n",
              "  background-color: var(--sklearn-color-background);\n",
              "  border-radius: 1rem;\n",
              "  height: 1rem;\n",
              "  width: 1rem;\n",
              "  text-decoration: none;\n",
              "  /* unfitted */\n",
              "  color: var(--sklearn-color-unfitted-level-1);\n",
              "  border: var(--sklearn-color-unfitted-level-1) 1pt solid;\n",
              "}\n",
              "\n",
              "#sk-container-id-1 a.estimator_doc_link.fitted {\n",
              "  /* fitted */\n",
              "  border: var(--sklearn-color-fitted-level-1) 1pt solid;\n",
              "  color: var(--sklearn-color-fitted-level-1);\n",
              "}\n",
              "\n",
              "/* On hover */\n",
              "#sk-container-id-1 a.estimator_doc_link:hover {\n",
              "  /* unfitted */\n",
              "  background-color: var(--sklearn-color-unfitted-level-3);\n",
              "  color: var(--sklearn-color-background);\n",
              "  text-decoration: none;\n",
              "}\n",
              "\n",
              "#sk-container-id-1 a.estimator_doc_link.fitted:hover {\n",
              "  /* fitted */\n",
              "  background-color: var(--sklearn-color-fitted-level-3);\n",
              "}\n",
              "</style><div id=\"sk-container-id-1\" class=\"sk-top-container\"><div class=\"sk-text-repr-fallback\"><pre>GridSearchCV(cv=5,\n",
              "             estimator=Pipeline(steps=[(&#x27;scaler&#x27;, StandardScaler()),\n",
              "                                       (&#x27;knn&#x27;, KNeighborsClassifier())]),\n",
              "             param_grid={&#x27;knn__n_neighbors&#x27;: [1, 2, 3, 4, 5, 6, 7, 8, 9, 10, 11,\n",
              "                                              12, 13, 14, 15, 16, 17, 18, 19,\n",
              "                                              20, 21, 22, 23, 24, 25, 26, 27,\n",
              "                                              28, 29]},\n",
              "             scoring=&#x27;accuracy&#x27;)</pre><b>In a Jupyter environment, please rerun this cell to show the HTML representation or trust the notebook. <br />On GitHub, the HTML representation is unable to render, please try loading this page with nbviewer.org.</b></div><div class=\"sk-container\" hidden><div class=\"sk-item sk-dashed-wrapped\"><div class=\"sk-label-container\"><div class=\"sk-label fitted sk-toggleable\"><input class=\"sk-toggleable__control sk-hidden--visually\" id=\"sk-estimator-id-1\" type=\"checkbox\" ><label for=\"sk-estimator-id-1\" class=\"sk-toggleable__label fitted sk-toggleable__label-arrow fitted\">&nbsp;&nbsp;GridSearchCV<a class=\"sk-estimator-doc-link fitted\" rel=\"noreferrer\" target=\"_blank\" href=\"https://scikit-learn.org/1.5/modules/generated/sklearn.model_selection.GridSearchCV.html\">?<span>Documentation for GridSearchCV</span></a><span class=\"sk-estimator-doc-link fitted\">i<span>Fitted</span></span></label><div class=\"sk-toggleable__content fitted\"><pre>GridSearchCV(cv=5,\n",
              "             estimator=Pipeline(steps=[(&#x27;scaler&#x27;, StandardScaler()),\n",
              "                                       (&#x27;knn&#x27;, KNeighborsClassifier())]),\n",
              "             param_grid={&#x27;knn__n_neighbors&#x27;: [1, 2, 3, 4, 5, 6, 7, 8, 9, 10, 11,\n",
              "                                              12, 13, 14, 15, 16, 17, 18, 19,\n",
              "                                              20, 21, 22, 23, 24, 25, 26, 27,\n",
              "                                              28, 29]},\n",
              "             scoring=&#x27;accuracy&#x27;)</pre></div> </div></div><div class=\"sk-parallel\"><div class=\"sk-parallel-item\"><div class=\"sk-item\"><div class=\"sk-label-container\"><div class=\"sk-label fitted sk-toggleable\"><input class=\"sk-toggleable__control sk-hidden--visually\" id=\"sk-estimator-id-2\" type=\"checkbox\" ><label for=\"sk-estimator-id-2\" class=\"sk-toggleable__label fitted sk-toggleable__label-arrow fitted\">best_estimator_: Pipeline</label><div class=\"sk-toggleable__content fitted\"><pre>Pipeline(steps=[(&#x27;scaler&#x27;, StandardScaler()),\n",
              "                (&#x27;knn&#x27;, KNeighborsClassifier(n_neighbors=1))])</pre></div> </div></div><div class=\"sk-serial\"><div class=\"sk-item\"><div class=\"sk-serial\"><div class=\"sk-item\"><div class=\"sk-estimator fitted sk-toggleable\"><input class=\"sk-toggleable__control sk-hidden--visually\" id=\"sk-estimator-id-3\" type=\"checkbox\" ><label for=\"sk-estimator-id-3\" class=\"sk-toggleable__label fitted sk-toggleable__label-arrow fitted\">&nbsp;StandardScaler<a class=\"sk-estimator-doc-link fitted\" rel=\"noreferrer\" target=\"_blank\" href=\"https://scikit-learn.org/1.5/modules/generated/sklearn.preprocessing.StandardScaler.html\">?<span>Documentation for StandardScaler</span></a></label><div class=\"sk-toggleable__content fitted\"><pre>StandardScaler()</pre></div> </div></div><div class=\"sk-item\"><div class=\"sk-estimator fitted sk-toggleable\"><input class=\"sk-toggleable__control sk-hidden--visually\" id=\"sk-estimator-id-4\" type=\"checkbox\" ><label for=\"sk-estimator-id-4\" class=\"sk-toggleable__label fitted sk-toggleable__label-arrow fitted\">&nbsp;KNeighborsClassifier<a class=\"sk-estimator-doc-link fitted\" rel=\"noreferrer\" target=\"_blank\" href=\"https://scikit-learn.org/1.5/modules/generated/sklearn.neighbors.KNeighborsClassifier.html\">?<span>Documentation for KNeighborsClassifier</span></a></label><div class=\"sk-toggleable__content fitted\"><pre>KNeighborsClassifier(n_neighbors=1)</pre></div> </div></div></div></div></div></div></div></div></div></div></div>"
            ],
            "text/plain": [
              "GridSearchCV(cv=5,\n",
              "             estimator=Pipeline(steps=[('scaler', StandardScaler()),\n",
              "                                       ('knn', KNeighborsClassifier())]),\n",
              "             param_grid={'knn__n_neighbors': [1, 2, 3, 4, 5, 6, 7, 8, 9, 10, 11,\n",
              "                                              12, 13, 14, 15, 16, 17, 18, 19,\n",
              "                                              20, 21, 22, 23, 24, 25, 26, 27,\n",
              "                                              28, 29]},\n",
              "             scoring='accuracy')"
            ]
          },
          "execution_count": 30,
          "metadata": {},
          "output_type": "execute_result"
        }
      ],
      "source": [
        "full_cv_classifier.fit(X_train, y_train)"
      ]
    },
    {
      "cell_type": "markdown",
      "id": "22c40f98-4936-403e-bff2-5a69bd457091",
      "metadata": {},
      "source": [
        "Посмотрим получившиеся параметры"
      ]
    },
    {
      "cell_type": "code",
      "execution_count": 31,
      "id": "be220d04-c370-49f7-aaee-409b994e50fd",
      "metadata": {
        "trusted": true
      },
      "outputs": [
        {
          "data": {
            "text/plain": [
              "{'memory': None,\n",
              " 'steps': [('scaler', StandardScaler()),\n",
              "  ('knn', KNeighborsClassifier(n_neighbors=1))],\n",
              " 'verbose': False,\n",
              " 'scaler': StandardScaler(),\n",
              " 'knn': KNeighborsClassifier(n_neighbors=1),\n",
              " 'scaler__copy': True,\n",
              " 'scaler__with_mean': True,\n",
              " 'scaler__with_std': True,\n",
              " 'knn__algorithm': 'auto',\n",
              " 'knn__leaf_size': 30,\n",
              " 'knn__metric': 'minkowski',\n",
              " 'knn__metric_params': None,\n",
              " 'knn__n_jobs': None,\n",
              " 'knn__n_neighbors': 1,\n",
              " 'knn__p': 2,\n",
              " 'knn__weights': 'uniform'}"
            ]
          },
          "execution_count": 31,
          "metadata": {},
          "output_type": "execute_result"
        }
      ],
      "source": [
        "full_cv_classifier.best_estimator_.get_params()"
      ]
    },
    {
      "cell_type": "markdown",
      "id": "3f900c34-9481-46a2-be11-35d3544d50e3",
      "metadata": {},
      "source": [
        "Получилось, что наилучшее значение \"К\" = 1"
      ]
    },
    {
      "cell_type": "markdown",
      "id": "1e18710c-b8e6-400b-8e78-1fe712d4978a",
      "metadata": {},
      "source": [
        "Нарисуем график средних тестовых оценок (mean_test_score) для каждого 'K'"
      ]
    },
    {
      "cell_type": "code",
      "execution_count": 32,
      "id": "6468c201-41a9-4966-968f-6f82658cc800",
      "metadata": {
        "trusted": true
      },
      "outputs": [],
      "source": [
        "cv_results = pd.DataFrame(full_cv_classifier.cv_results_)"
      ]
    },
    {
      "cell_type": "code",
      "execution_count": 33,
      "id": "072fb88a-d2c7-42a9-9f92-1dcab17b9bfd",
      "metadata": {
        "trusted": true
      },
      "outputs": [
        {
          "data": {
            "text/html": [
              "<div>\n",
              "<style scoped>\n",
              "    .dataframe tbody tr th:only-of-type {\n",
              "        vertical-align: middle;\n",
              "    }\n",
              "\n",
              "    .dataframe tbody tr th {\n",
              "        vertical-align: top;\n",
              "    }\n",
              "\n",
              "    .dataframe thead th {\n",
              "        text-align: right;\n",
              "    }\n",
              "</style>\n",
              "<table border=\"1\" class=\"dataframe\">\n",
              "  <thead>\n",
              "    <tr style=\"text-align: right;\">\n",
              "      <th></th>\n",
              "      <th>mean_fit_time</th>\n",
              "      <th>std_fit_time</th>\n",
              "      <th>mean_score_time</th>\n",
              "      <th>std_score_time</th>\n",
              "      <th>param_knn__n_neighbors</th>\n",
              "      <th>params</th>\n",
              "      <th>split0_test_score</th>\n",
              "      <th>split1_test_score</th>\n",
              "      <th>split2_test_score</th>\n",
              "      <th>split3_test_score</th>\n",
              "      <th>split4_test_score</th>\n",
              "      <th>mean_test_score</th>\n",
              "      <th>std_test_score</th>\n",
              "      <th>rank_test_score</th>\n",
              "    </tr>\n",
              "  </thead>\n",
              "  <tbody>\n",
              "    <tr>\n",
              "      <th>0</th>\n",
              "      <td>0.006649</td>\n",
              "      <td>0.002535</td>\n",
              "      <td>0.080347</td>\n",
              "      <td>0.133052</td>\n",
              "      <td>1</td>\n",
              "      <td>{'knn__n_neighbors': 1}</td>\n",
              "      <td>0.894737</td>\n",
              "      <td>0.710526</td>\n",
              "      <td>0.837838</td>\n",
              "      <td>0.918919</td>\n",
              "      <td>0.864865</td>\n",
              "      <td>0.845377</td>\n",
              "      <td>0.072755</td>\n",
              "      <td>1</td>\n",
              "    </tr>\n",
              "    <tr>\n",
              "      <th>1</th>\n",
              "      <td>0.004922</td>\n",
              "      <td>0.000850</td>\n",
              "      <td>0.014229</td>\n",
              "      <td>0.001328</td>\n",
              "      <td>2</td>\n",
              "      <td>{'knn__n_neighbors': 2}</td>\n",
              "      <td>0.894737</td>\n",
              "      <td>0.684211</td>\n",
              "      <td>0.810811</td>\n",
              "      <td>0.702703</td>\n",
              "      <td>0.810811</td>\n",
              "      <td>0.780654</td>\n",
              "      <td>0.077732</td>\n",
              "      <td>2</td>\n",
              "    </tr>\n",
              "    <tr>\n",
              "      <th>2</th>\n",
              "      <td>0.004476</td>\n",
              "      <td>0.000711</td>\n",
              "      <td>0.012766</td>\n",
              "      <td>0.000640</td>\n",
              "      <td>3</td>\n",
              "      <td>{'knn__n_neighbors': 3}</td>\n",
              "      <td>0.894737</td>\n",
              "      <td>0.684211</td>\n",
              "      <td>0.783784</td>\n",
              "      <td>0.729730</td>\n",
              "      <td>0.783784</td>\n",
              "      <td>0.775249</td>\n",
              "      <td>0.070403</td>\n",
              "      <td>3</td>\n",
              "    </tr>\n",
              "  </tbody>\n",
              "</table>\n",
              "</div>"
            ],
            "text/plain": [
              "   mean_fit_time  std_fit_time  mean_score_time  std_score_time  \\\n",
              "0       0.006649      0.002535         0.080347        0.133052   \n",
              "1       0.004922      0.000850         0.014229        0.001328   \n",
              "2       0.004476      0.000711         0.012766        0.000640   \n",
              "\n",
              "   param_knn__n_neighbors                   params  split0_test_score  \\\n",
              "0                       1  {'knn__n_neighbors': 1}           0.894737   \n",
              "1                       2  {'knn__n_neighbors': 2}           0.894737   \n",
              "2                       3  {'knn__n_neighbors': 3}           0.894737   \n",
              "\n",
              "   split1_test_score  split2_test_score  split3_test_score  split4_test_score  \\\n",
              "0           0.710526           0.837838           0.918919           0.864865   \n",
              "1           0.684211           0.810811           0.702703           0.810811   \n",
              "2           0.684211           0.783784           0.729730           0.783784   \n",
              "\n",
              "   mean_test_score  std_test_score  rank_test_score  \n",
              "0         0.845377        0.072755                1  \n",
              "1         0.780654        0.077732                2  \n",
              "2         0.775249        0.070403                3  "
            ]
          },
          "execution_count": 33,
          "metadata": {},
          "output_type": "execute_result"
        }
      ],
      "source": [
        "cv_results.head(3)"
      ]
    },
    {
      "cell_type": "code",
      "execution_count": 34,
      "id": "1b866174-4788-4c4c-b64a-2d6a8031f5e0",
      "metadata": {
        "trusted": true
      },
      "outputs": [
        {
          "data": {
            "text/plain": [
              "0     0.845377\n",
              "1     0.780654\n",
              "2     0.775249\n",
              "3     0.759175\n",
              "4     0.759317\n",
              "5     0.748222\n",
              "6     0.759459\n",
              "7     0.716643\n",
              "8     0.711380\n",
              "9     0.684211\n",
              "10    0.700427\n",
              "11    0.684353\n",
              "12    0.684495\n",
              "13    0.679090\n",
              "14    0.695306\n",
              "15    0.689900\n",
              "16    0.711380\n",
              "17    0.700427\n",
              "18    0.722048\n",
              "19    0.679090\n",
              "20    0.700711\n",
              "21    0.695306\n",
              "22    0.695306\n",
              "23    0.684637\n",
              "24    0.684780\n",
              "25    0.679232\n",
              "26    0.674111\n",
              "27    0.657752\n",
              "28    0.668563\n",
              "Name: mean_test_score, dtype: float64"
            ]
          },
          "execution_count": 34,
          "metadata": {},
          "output_type": "execute_result"
        }
      ],
      "source": [
        "cv_results['mean_test_score']"
      ]
    },
    {
      "cell_type": "code",
      "execution_count": 35,
      "id": "3b1ea002-2b4c-4b23-8017-6452e76eefc4",
      "metadata": {
        "trusted": true
      },
      "outputs": [
        {
          "data": {
            "text/plain": [
              "<Axes: >"
            ]
          },
          "execution_count": 35,
          "metadata": {},
          "output_type": "execute_result"
        },
        {
          "data": {
            "image/png": "[encoded data removed]",
            "text/plain": [
              "<Figure size 640x480 with 1 Axes>"
            ]
          },
          "metadata": {},
          "output_type": "display_data"
        }
      ],
      "source": [
        "cv_results['mean_test_score'].plot()"
      ]
    },
    {
      "cell_type": "markdown",
      "id": "b49eafe4-a05a-4ad5-919b-092e4ee542d2",
      "metadata": {},
      "source": [
        "Оценим работу модели. Выведем матрицу ошибок."
      ]
    },
    {
      "cell_type": "code",
      "execution_count": 39,
      "id": "e4359f03-d8d1-46e6-9e1e-65471a69f03f",
      "metadata": {
        "trusted": true
      },
      "outputs": [],
      "source": [
        "y_pred = full_cv_classifier.predict(X_test)"
      ]
    },
    {
      "cell_type": "code",
      "execution_count": 40,
      "id": "f136d280-3a00-41bb-bf08-13168f3f7477",
      "metadata": {
        "trusted": true
      },
      "outputs": [],
      "source": [
        "from sklearn.metrics import classification_report, confusion_matrix"
      ]
    },
    {
      "cell_type": "code",
      "execution_count": 41,
      "id": "5c128c6a-262b-4e79-8d27-74f06a30024f",
      "metadata": {
        "trusted": true
      },
      "outputs": [
        {
          "data": {
            "text/plain": [
              "array([[12,  1],\n",
              "       [ 1,  7]])"
            ]
          },
          "execution_count": 41,
          "metadata": {},
          "output_type": "execute_result"
        }
      ],
      "source": [
        "confusion_matrix(y_test, y_pred)"
      ]
    },
    {
      "cell_type": "markdown",
      "id": "e7f93409-88ba-4b95-8b99-43b88f46efd2",
      "metadata": {},
      "source": [
        "Модель неправильно классифицированла всего 2 точки (1 + 1). При этом 1 ошибка показывает, что это False negative. Таким образом модель назвала камень, а это была мина. "
      ]
    },
    {
      "cell_type": "code",
      "execution_count": 42,
      "id": "6c62a53e-5611-4f9b-8901-c7e644805596",
      "metadata": {
        "trusted": true
      },
      "outputs": [
        {
          "name": "stdout",
          "output_type": "stream",
          "text": [
            "              precision    recall  f1-score   support\n",
            "\n",
            "           M       0.92      0.92      0.92        13\n",
            "           R       0.88      0.88      0.88         8\n",
            "\n",
            "    accuracy                           0.90        21\n",
            "   macro avg       0.90      0.90      0.90        21\n",
            "weighted avg       0.90      0.90      0.90        21\n",
            "\n"
          ]
        }
      ],
      "source": [
        "print(classification_report(y_test, y_pred))"
      ]
    },
    {
      "cell_type": "code",
      "execution_count": null,
      "id": "db093ebc-a879-4672-8b02-cd762e346715",
      "metadata": {
        "trusted": true
      },
      "outputs": [],
      "source": []
    }
  ],
  "metadata": {
    "kernelspec": {
      "display_name": "Python 3",
      "language": "python",
      "name": "python3"
    },
    "language_info": {
      "codemirror_mode": {
        "name": "ipython",
        "version": 3
      },
      "file_extension": ".py",
      "mimetype": "text/x-python",
      "name": "python",
      "nbconvert_exporter": "python",
      "pygments_lexer": "ipython3",
      "version": "3.13.0"
    }
  },
  "nbformat": 4,
  "nbformat_minor": 5
}
